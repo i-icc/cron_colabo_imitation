{
 "cells": [
  {
   "cell_type": "markdown",
   "metadata": {},
   "source": [
    "## メモ\n",
    "これは GoogleDrive との接続テスト用noteです。\n",
    "colab で使用しているdriveとの接続方法は jupyter では利用できないため、別の方法を利用した接続方法のサンプルを置いておきます"
   ]
  },
  {
   "cell_type": "code",
   "execution_count": null,
   "metadata": {},
   "outputs": [],
   "source": [
    "from google.colab import drive\n",
    "drive.mount('/content/drive')\n",
    "\n",
    "import os\n",
    "\n",
    "# Google Driveのマウントポイントを指定\n",
    "drive_path = '/content/drive/MyDrive'\n",
    "\n",
    "# Drive内のファイルとディレクトリをリストアップ\n",
    "files = os.listdir(drive_path)\n",
    "\n",
    "# ファイル名を表示\n",
    "for file in files:\n",
    "    print(file)"
   ]
  }
 ],
 "metadata": {
  "colab": {
   "provenance": []
  },
  "kernelspec": {
   "display_name": "Python 3 (ipykernel)",
   "language": "python",
   "name": "python3"
  },
  "language_info": {
   "codemirror_mode": {
    "name": "ipython",
    "version": 3
   },
   "file_extension": ".py",
   "mimetype": "text/x-python",
   "name": "python",
   "nbconvert_exporter": "python",
   "pygments_lexer": "ipython3",
   "version": "3.10.12"
  }
 },
 "nbformat": 4,
 "nbformat_minor": 4
}
