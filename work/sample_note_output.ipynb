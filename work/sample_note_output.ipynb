{
 "cells": [
  {
   "cell_type": "code",
   "execution_count": 1,
   "id": "db8be6f3-2fd0-4b66-95e9-d145e1ac22ad",
   "metadata": {
    "execution": {
     "iopub.execute_input": "2025-02-04T17:10:02.894152Z",
     "iopub.status.busy": "2025-02-04T17:10:02.893800Z",
     "iopub.status.idle": "2025-02-04T17:10:02.900846Z",
     "shell.execute_reply": "2025-02-04T17:10:02.900440Z"
    }
   },
   "outputs": [
    {
     "name": "stdout",
     "output_type": "stream",
     "text": [
      "これは定期実行されているかのテストです\n"
     ]
    }
   ],
   "source": [
    "print(\"これは定期実行されているかのテストです\")"
   ]
  },
  {
   "cell_type": "code",
   "execution_count": 2,
   "id": "92a00ea9-c312-48c9-a19e-fb6a93e52b81",
   "metadata": {
    "execution": {
     "iopub.execute_input": "2025-02-04T17:10:02.902101Z",
     "iopub.status.busy": "2025-02-04T17:10:02.901982Z",
     "iopub.status.idle": "2025-02-04T17:10:03.161897Z",
     "shell.execute_reply": "2025-02-04T17:10:03.161477Z"
    },
    "tags": []
   },
   "outputs": [
    {
     "name": "stdout",
     "output_type": "stream",
     "text": [
      "        名前  年齢   性別\n",
      "0    Alice  25   女性\n",
      "1      Bob  30   男性\n",
      "2  Charlie  35  その他\n"
     ]
    }
   ],
   "source": [
    "# ライブラリの使用テスト\n",
    "import pandas as pd\n",
    "# リストからデータフレームを作成する\n",
    "data = {\n",
    "    '名前': ['Alice', 'Bob', 'Charlie'],\n",
    "    '年齢': [25, 30, 35],\n",
    "    '性別': ['女性', '男性', 'その他']\n",
    "}\n",
    "df = pd.DataFrame(data)\n",
    "\n",
    "# データフレームを表示する\n",
    "print(df)"
   ]
  },
  {
   "cell_type": "code",
   "execution_count": 3,
   "id": "d30ab4a1-3e59-4dd5-93f9-841d8099c39f",
   "metadata": {
    "execution": {
     "iopub.execute_input": "2025-02-04T17:10:03.163292Z",
     "iopub.status.busy": "2025-02-04T17:10:03.162950Z",
     "iopub.status.idle": "2025-02-04T17:10:03.165820Z",
     "shell.execute_reply": "2025-02-04T17:10:03.165502Z"
    },
    "tags": []
   },
   "outputs": [
    {
     "name": "stdout",
     "output_type": "stream",
     "text": [
      "2025-02-04 17:10:03.163841\n"
     ]
    }
   ],
   "source": [
    "import datetime\n",
    "print(datetime.datetime.now())"
   ]
  }
 ],
 "metadata": {
  "kernelspec": {
   "display_name": "Python 3 (ipykernel)",
   "language": "python",
   "name": "python3"
  },
  "language_info": {
   "codemirror_mode": {
    "name": "ipython",
    "version": 3
   },
   "file_extension": ".py",
   "mimetype": "text/x-python",
   "name": "python",
   "nbconvert_exporter": "python",
   "pygments_lexer": "ipython3",
   "version": "3.10.12"
  }
 },
 "nbformat": 4,
 "nbformat_minor": 5
}
