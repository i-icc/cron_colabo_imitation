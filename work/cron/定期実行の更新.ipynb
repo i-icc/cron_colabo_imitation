{
 "cells": [
  {
   "cell_type": "code",
   "execution_count": 36,
   "id": "290986f2-1236-4c37-8d50-6a0f78cfc168",
   "metadata": {
    "tags": []
   },
   "outputs": [
    {
     "name": "stdout",
     "output_type": "stream",
     "text": [
      "*/10 * * * * /home/jovyan/work/cron/run.sh ./sample_note.ipynb 2>&1\n",
      "\n",
      "\n"
     ]
    }
   ],
   "source": [
    "# ファイルの確認\n",
    "import subprocess\n",
    "\n",
    "# crontabファイルのパス\n",
    "crontab_file = '/home/jovyan/work/cron/crontab'\n",
    "\n",
    "# crontabファイルの内容を読み込む\n",
    "with open(crontab_file, 'r') as f:\n",
    "    crontab_content = f.read()\n",
    "\n",
    "print(crontab_content)"
   ]
  },
  {
   "cell_type": "code",
   "execution_count": 39,
   "id": "1e7d289e-9b85-46ad-a1e6-fceb11c30178",
   "metadata": {
    "tags": []
   },
   "outputs": [
    {
     "name": "stdout",
     "output_type": "stream",
     "text": [
      "*/10 * * * * /home/jovyan/work/cron/run.sh ./sample_note.ipynb 2>&1\n",
      "\n"
     ]
    }
   ],
   "source": [
    "# 既存の定期実行の取得\n",
    "!sudo crontab -l -u root"
   ]
  },
  {
   "cell_type": "code",
   "execution_count": 38,
   "id": "60521eff-68d7-4ed0-b27b-84abdc1e1832",
   "metadata": {
    "tags": []
   },
   "outputs": [
    {
     "name": "stdout",
     "output_type": "stream",
     "text": [
      "*/10 * * * * /home/jovyan/work/cron/run.sh ./sample_note.ipynb 2>&1\n",
      "\n"
     ]
    }
   ],
   "source": [
    "# crontabコマンドを実行\n",
    "process = subprocess.Popen(['sudo', 'crontab','-u', 'root', '-'], stdin=subprocess.PIPE)\n",
    "process.communicate(input=crontab_content.encode())\n",
    "\n",
    "# crontabの設定を確認\n",
    "!sudo crontab -l -u root"
   ]
  },
  {
   "cell_type": "code",
   "execution_count": null,
   "id": "8c1a92b7-9f84-43a6-af0c-88120626bc82",
   "metadata": {},
   "outputs": [],
   "source": []
  }
 ],
 "metadata": {
  "kernelspec": {
   "display_name": "Python 3 (ipykernel)",
   "language": "python",
   "name": "python3"
  },
  "language_info": {
   "codemirror_mode": {
    "name": "ipython",
    "version": 3
   },
   "file_extension": ".py",
   "mimetype": "text/x-python",
   "name": "python",
   "nbconvert_exporter": "python",
   "pygments_lexer": "ipython3",
   "version": "3.10.12"
  }
 },
 "nbformat": 4,
 "nbformat_minor": 5
}
