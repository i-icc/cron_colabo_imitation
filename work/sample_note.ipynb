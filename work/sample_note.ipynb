{
 "cells": [
  {
   "cell_type": "code",
   "execution_count": 1,
   "id": "db8be6f3-2fd0-4b66-95e9-d145e1ac22ad",
   "metadata": {},
   "outputs": [
    {
     "name": "stdout",
     "output_type": "stream",
     "text": [
      "test\n"
     ]
    }
   ],
   "source": [
    "print(\"test\")"
   ]
  },
  {
   "cell_type": "code",
   "execution_count": 2,
   "id": "00bb24a9-7948-4079-8f0a-5007bb99bd5d",
   "metadata": {},
   "outputs": [],
   "source": [
    "import pandas as pd\n"
   ]
  },
  {
   "cell_type": "code",
   "execution_count": 3,
   "id": "92a00ea9-c312-48c9-a19e-fb6a93e52b81",
   "metadata": {},
   "outputs": [],
   "source": [
    "# リストからデータフレームを作成する\n",
    "data = {\n",
    "    '名前': ['Alice', 'Bob', 'Charlie'],\n",
    "    '年齢': [25, 30, 35],\n",
    "    '性別': ['女性', '男性', 'その他']\n",
    "}\n",
    "df = pd.DataFrame(data)\n",
    "\n"
   ]
  },
  {
   "cell_type": "code",
   "execution_count": 4,
   "id": "6ee72ee5-eb28-4f67-99a8-2881ec5d9899",
   "metadata": {
    "scrolled": true
   },
   "outputs": [
    {
     "name": "stdout",
     "output_type": "stream",
     "text": [
      "        名前  年齢   性別\n",
      "0    Alice  25   女性\n",
      "1      Bob  30   男性\n",
      "2  Charlie  35  その他\n"
     ]
    }
   ],
   "source": [
    "# データフレームを表示する\n",
    "print(df)"
   ]
  },
  {
   "cell_type": "code",
   "execution_count": 5,
   "id": "7730e86f-0b3d-411b-9da7-888cc55b75a2",
   "metadata": {},
   "outputs": [],
   "source": [
    "# データフレームの列を取得する\n",
    "names = df['名前']\n",
    "ages = df['年齢']\n",
    "\n",
    "# 列を追加する\n",
    "df['都市'] = ['東京', '大阪', '札幌']"
   ]
  },
  {
   "cell_type": "code",
   "execution_count": 6,
   "id": "41bdb3ad-6799-4e2b-9aa3-fa7dd1f976f5",
   "metadata": {},
   "outputs": [],
   "source": [
    "# 条件に合うデータをフィルタリングする\n",
    "filtered_df = df[df['年齢'] > 30]"
   ]
  },
  {
   "cell_type": "code",
   "execution_count": 7,
   "id": "081f1b3b-a1a7-442d-8816-75f26b91d15f",
   "metadata": {},
   "outputs": [],
   "source": [
    "# データフレームをCSVファイルに保存する\n",
    "df.to_csv('./outputs/sample.csv', index=False)"
   ]
  }
 ],
 "metadata": {
  "kernelspec": {
   "display_name": "Python 3 (ipykernel)",
   "language": "python",
   "name": "python3"
  },
  "language_info": {
   "codemirror_mode": {
    "name": "ipython",
    "version": 3
   },
   "file_extension": ".py",
   "mimetype": "text/x-python",
   "name": "python",
   "nbconvert_exporter": "python",
   "pygments_lexer": "ipython3",
   "version": "3.11.6"
  }
 },
 "nbformat": 4,
 "nbformat_minor": 5
}
